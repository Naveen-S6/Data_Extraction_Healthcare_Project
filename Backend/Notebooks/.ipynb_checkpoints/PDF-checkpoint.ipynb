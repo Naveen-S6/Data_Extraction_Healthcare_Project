{
 "cells": [
  {
   "cell_type": "code",
   "execution_count": 47,
   "id": "2448eb9e",
   "metadata": {},
   "outputs": [],
   "source": [
    "import cv2\n",
    "from PIL import Image\n",
    "import numpy as np"
   ]
  },
  {
   "cell_type": "code",
   "execution_count": 3,
   "id": "e7f522e3",
   "metadata": {},
   "outputs": [],
   "source": [
    "from pdf2image import convert_from_path"
   ]
  },
  {
   "cell_type": "code",
   "execution_count": 4,
   "id": "e21ff1bb",
   "metadata": {},
   "outputs": [],
   "source": [
    "pages = convert_from_path(r\"D:\\Naveen\\OCR_Healthcare_Project\\Data_Extraction_Healthcare_Project\\resources\\prescription\\pre_1.pdf\",poppler_path=r\"D:\\Naveen\\OCR_Healthcare_Project\\poppler-22.04.0\\Library\\bin\")"
   ]
  },
  {
   "cell_type": "code",
   "execution_count": 5,
   "id": "0c3ea745",
   "metadata": {},
   "outputs": [
    {
     "data": {
      "text/plain": [
       "[<PIL.PpmImagePlugin.PpmImageFile image mode=RGB size=1700x2200 at 0x1B9F69C5070>]"
      ]
     },
     "execution_count": 5,
     "metadata": {},
     "output_type": "execute_result"
    }
   ],
   "source": [
    "pages"
   ]
  },
  {
   "cell_type": "code",
   "execution_count": 22,
   "id": "83f0007c",
   "metadata": {},
   "outputs": [],
   "source": [
    "pages[0].show()"
   ]
  },
  {
   "attachments": {},
   "cell_type": "markdown",
   "id": "d4b104e1",
   "metadata": {},
   "source": [
    "<img src=\"sample.jpg\" width=\"350\">"
   ]
  },
  {
   "cell_type": "code",
   "execution_count": 7,
   "id": "0c27c0da",
   "metadata": {},
   "outputs": [],
   "source": [
    "import pytesseract"
   ]
  },
  {
   "cell_type": "code",
   "execution_count": 8,
   "id": "133add88",
   "metadata": {},
   "outputs": [],
   "source": [
    "pytesseract.pytesseract.tesseract_cmd = r\"C:\\Program Files\\Tesseract-OCR\\tesseract.exe\""
   ]
  },
  {
   "cell_type": "code",
   "execution_count": 9,
   "id": "92e57505",
   "metadata": {},
   "outputs": [],
   "source": [
    "text = pytesseract.image_to_string(pages[0], lang=\"eng\")"
   ]
  },
  {
   "cell_type": "code",
   "execution_count": 10,
   "id": "df02a481",
   "metadata": {},
   "outputs": [
    {
     "name": "stdout",
     "output_type": "stream",
     "text": [
      "Dr John Smith, M.D\n",
      "2 Non-Important Street,\n",
      "New York, Phone (000)-111-2222\n",
      "\n",
      "Name: Maria Sharapova Date: 5/11/2022\n",
      "\n",
      "Address: 9 tennis court, new Russia, DC\n",
      "\n",
      "—momennannenncmneneunnmnnnnninsissiyoinnitnahaadaanih issn earnttneenrenen:\n",
      "\n",
      "Prednisone 20 mg\n",
      "Lialda 2.4 gram\n",
      "\n",
      "3 days,\n",
      "\n",
      "or 1 month\n"
     ]
    }
   ],
   "source": [
    "print(text)"
   ]
  },
  {
   "cell_type": "code",
   "execution_count": 14,
   "id": "e6dbbd8f",
   "metadata": {},
   "outputs": [],
   "source": [
    "def preprocess_image(img):\n",
    "    gray = cv2.cvtColor(np.array(img), cv2.COLOR_BGR2GRAY)\n",
    "    resized = cv2.resize(gray, None, fx=1.5,fy=1.5, interpolation=cv2.INTER_LINEAR)\n",
    "    processed_image = cv2.adaptiveThreshold(resized, 255, cv2.ADAPTIVE_THRESH_GAUSSIAN_C,cv2.THRESH_BINARY,61,11)\n",
    "    \n",
    "    return processed_image"
   ]
  },
  {
   "cell_type": "code",
   "execution_count": 15,
   "id": "bb3d048a",
   "metadata": {},
   "outputs": [],
   "source": [
    "imgg = preprocess_image(pages[0])"
   ]
  },
  {
   "cell_type": "code",
   "execution_count": 16,
   "id": "5162621e",
   "metadata": {},
   "outputs": [],
   "source": [
    "Image.fromarray(imgg).show()"
   ]
  },
  {
   "attachments": {},
   "cell_type": "markdown",
   "id": "86e166e4",
   "metadata": {},
   "source": [
    "<img src=\"sample2.jpg\" width=\"350\">"
   ]
  },
  {
   "cell_type": "code",
   "execution_count": 18,
   "id": "952de08e",
   "metadata": {},
   "outputs": [],
   "source": [
    "text2 = pytesseract.image_to_string(imgg, lang=\"eng\")"
   ]
  },
  {
   "cell_type": "code",
   "execution_count": 20,
   "id": "21f06122",
   "metadata": {},
   "outputs": [
    {
     "name": "stdout",
     "output_type": "stream",
     "text": [
      "Dr John Smith, M.D\n",
      "2 Non-Important Street,\n",
      "New York, Phone (000)-111-2222\n",
      "\n",
      "Name: Marta Sharapova Date: 5/11/2022\n",
      "\n",
      "Address: 9 tennis court, new Russia, DC\n",
      "\n",
      "K\n",
      "\n",
      "Prednisone 20 mg\n",
      "Lialda 2.4 gram\n",
      "\n",
      "Directions:\n",
      "\n",
      "Prednisone, Taper 5 mg every 3 days,\n",
      "Finish in 2.5 weeks a\n",
      "Lialda - take 2 pill everyday for 1 month\n",
      "\n",
      "Refill: 2 times\n"
     ]
    }
   ],
   "source": [
    "print(text2)"
   ]
  },
  {
   "cell_type": "code",
   "execution_count": 33,
   "id": "d1f0782c",
   "metadata": {},
   "outputs": [],
   "source": [
    "pages = convert_from_path(r\"D:\\Naveen\\OCR_Healthcare_Project\\Data_Extraction_Healthcare_Project\\resources\\prescription\\pre_2.pdf\",poppler_path=r\"D:\\Naveen\\OCR_Healthcare_Project\\poppler-22.04.0\\Library\\bin\")"
   ]
  },
  {
   "cell_type": "code",
   "execution_count": 34,
   "id": "b67b6023",
   "metadata": {},
   "outputs": [
    {
     "data": {
      "text/plain": [
       "[<PIL.PpmImagePlugin.PpmImageFile image mode=RGB size=1700x2200 at 0x1B9FA0B36D0>]"
      ]
     },
     "execution_count": 34,
     "metadata": {},
     "output_type": "execute_result"
    }
   ],
   "source": [
    "pages"
   ]
  },
  {
   "cell_type": "code",
   "execution_count": 35,
   "id": "4f3f089d",
   "metadata": {},
   "outputs": [
    {
     "data": {
      "text/plain": [
       "1"
      ]
     },
     "execution_count": 35,
     "metadata": {},
     "output_type": "execute_result"
    }
   ],
   "source": [
    "len(pages)"
   ]
  },
  {
   "cell_type": "code",
   "execution_count": 36,
   "id": "aafca05d",
   "metadata": {},
   "outputs": [],
   "source": [
    "pages[0].show()"
   ]
  },
  {
   "cell_type": "code",
   "execution_count": 37,
   "id": "3f0299b3",
   "metadata": {},
   "outputs": [],
   "source": [
    "img_array = np.array(pages[0])"
   ]
  },
  {
   "attachments": {},
   "cell_type": "markdown",
   "id": "cd8d8aab",
   "metadata": {},
   "source": [
    "<img src=\"sample3.jpg\" width=\"350\">"
   ]
  },
  {
   "cell_type": "code",
   "execution_count": 42,
   "id": "132daa44",
   "metadata": {},
   "outputs": [
    {
     "name": "stdout",
     "output_type": "stream",
     "text": [
      "Refill: 3 times\n"
     ]
    }
   ],
   "source": [
    "text = pytesseract.image_to_string(pages[0])\n",
    "print(text)"
   ]
  },
  {
   "cell_type": "code",
   "execution_count": 43,
   "id": "bfa1f88b",
   "metadata": {},
   "outputs": [],
   "source": [
    "img2 = preprocess_image(pages[0])"
   ]
  },
  {
   "cell_type": "code",
   "execution_count": 44,
   "id": "0b00c2bb",
   "metadata": {},
   "outputs": [],
   "source": [
    "Image.fromarray(img2).show()"
   ]
  },
  {
   "attachments": {},
   "cell_type": "markdown",
   "id": "c51399ee",
   "metadata": {},
   "source": [
    "<img src=\"sample4.jpg\" width= 350>"
   ]
  },
  {
   "cell_type": "code",
   "execution_count": 46,
   "id": "731319ef",
   "metadata": {},
   "outputs": [
    {
     "name": "stdout",
     "output_type": "stream",
     "text": [
      "Dr John >mith, M.D\n",
      "\n",
      "2 Non-Important street,\n",
      "New York, Phone (900)-323- ~2222\n",
      "\n",
      "Name:  Virat Kohli Date: 2/05/2022\n",
      "\n",
      "Address: 2 cricket blvd, New Delhi\n",
      "\n",
      "| Omeprazole 40 mg\n",
      "\n",
      "Directions: Use two tablets daily for three months\n",
      "\n",
      "Refill: 3 times\n"
     ]
    }
   ],
   "source": [
    "text = pytesseract.image_to_string(img2)\n",
    "print(text)"
   ]
  },
  {
   "cell_type": "code",
   "execution_count": null,
   "id": "e92c3d65",
   "metadata": {},
   "outputs": [],
   "source": []
  }
 ],
 "metadata": {
  "kernelspec": {
   "display_name": "Python 3 (ipykernel)",
   "language": "python",
   "name": "python3"
  },
  "language_info": {
   "codemirror_mode": {
    "name": "ipython",
    "version": 3
   },
   "file_extension": ".py",
   "mimetype": "text/x-python",
   "name": "python",
   "nbconvert_exporter": "python",
   "pygments_lexer": "ipython3",
   "version": "3.8.10"
  }
 },
 "nbformat": 4,
 "nbformat_minor": 5
}
