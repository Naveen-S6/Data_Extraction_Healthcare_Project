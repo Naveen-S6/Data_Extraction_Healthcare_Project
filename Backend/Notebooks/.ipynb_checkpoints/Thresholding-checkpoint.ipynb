{
 "cells": [
  {
   "cell_type": "code",
   "execution_count": 2,
   "id": "6fd21c99",
   "metadata": {},
   "outputs": [],
   "source": [
    "import cv2\n",
    "from PIL import Image"
   ]
  },
  {
   "cell_type": "code",
   "execution_count": 3,
   "id": "917c7a24",
   "metadata": {},
   "outputs": [],
   "source": [
    "img = cv2.imread(\"clear_image.jpg\",flags =cv2.IMREAD_GRAYSCALE)"
   ]
  },
  {
   "cell_type": "code",
   "execution_count": 4,
   "id": "56c17f94",
   "metadata": {},
   "outputs": [
    {
     "data": {
      "text/plain": [
       "array([[206, 206, 206, ..., 185, 185, 185],\n",
       "       [206, 206, 206, ..., 185, 185, 185],\n",
       "       [206, 206, 206, ..., 186, 185, 185],\n",
       "       ...,\n",
       "       [207, 207, 207, ..., 191, 190, 190],\n",
       "       [207, 207, 207, ..., 191, 190, 190],\n",
       "       [207, 207, 207, ..., 191, 191, 190]], dtype=uint8)"
      ]
     },
     "execution_count": 4,
     "metadata": {},
     "output_type": "execute_result"
    }
   ],
   "source": [
    "img"
   ]
  },
  {
   "cell_type": "code",
   "execution_count": 5,
   "id": "c0bef417",
   "metadata": {},
   "outputs": [],
   "source": [
    "Image.fromarray(img).show()"
   ]
  },
  {
   "cell_type": "markdown",
   "id": "73f60a43",
   "metadata": {},
   "source": [
    "<img src=\"clear_image.jpg\" width=\"350\">"
   ]
  },
  {
   "cell_type": "code",
   "execution_count": 8,
   "id": "20117a8c",
   "metadata": {},
   "outputs": [],
   "source": [
    "_, new_img = cv2.threshold(img,160,250,cv2.THRESH_BINARY)"
   ]
  },
  {
   "cell_type": "code",
   "execution_count": 9,
   "id": "8a6c9cf0",
   "metadata": {},
   "outputs": [],
   "source": [
    "Image.fromarray(new_img).show()"
   ]
  },
  {
   "cell_type": "markdown",
   "id": "1af4e148",
   "metadata": {},
   "source": [
    "<img src=\"filter_clear.jpg\" width=\"350\">"
   ]
  },
  {
   "cell_type": "code",
   "execution_count": 11,
   "id": "80f531f9",
   "metadata": {},
   "outputs": [],
   "source": [
    "img2 = cv2.imread(\"dark_image.jpg\",flags =cv2.IMREAD_GRAYSCALE)"
   ]
  },
  {
   "cell_type": "code",
   "execution_count": 12,
   "id": "292a0b85",
   "metadata": {},
   "outputs": [],
   "source": [
    "Image.fromarray(img2).show()"
   ]
  },
  {
   "cell_type": "markdown",
   "id": "3833753c",
   "metadata": {},
   "source": [
    "<img src=\"dark_image.jpg\" width=\"350\">"
   ]
  },
  {
   "cell_type": "code",
   "execution_count": 13,
   "id": "2e102306",
   "metadata": {},
   "outputs": [],
   "source": [
    "_, new_img2 = cv2.threshold(img2,150,250,cv2.THRESH_BINARY)"
   ]
  },
  {
   "cell_type": "code",
   "execution_count": 14,
   "id": "92df260c",
   "metadata": {},
   "outputs": [],
   "source": [
    "Image.fromarray(new_img2).show()"
   ]
  },
  {
   "cell_type": "markdown",
   "id": "77978275",
   "metadata": {},
   "source": [
    "<img src=\"filter_dark.jpg\" width=\"350\">"
   ]
  },
  {
   "cell_type": "code",
   "execution_count": 16,
   "id": "4b77dd20",
   "metadata": {},
   "outputs": [],
   "source": [
    "new_images = cv2.adaptiveThreshold(\n",
    "    img2, \n",
    "    255,\n",
    "    cv2.ADAPTIVE_THRESH_GAUSSIAN_C,\n",
    "    cv2.THRESH_BINARY,\n",
    "    51,\n",
    "    15\n",
    ")"
   ]
  },
  {
   "cell_type": "code",
   "execution_count": 17,
   "id": "076b5e3b",
   "metadata": {},
   "outputs": [],
   "source": [
    "Image.fromarray(new_images).show()"
   ]
  },
  {
   "cell_type": "markdown",
   "id": "7db36076",
   "metadata": {},
   "source": [
    "<img src=\"adaptive_filter_dark.jpg\" width=\"350\">"
   ]
  },
  {
   "cell_type": "code",
   "execution_count": null,
   "id": "d36f8f28",
   "metadata": {},
   "outputs": [],
   "source": []
  }
 ],
 "metadata": {
  "kernelspec": {
   "display_name": "Python 3 (ipykernel)",
   "language": "python",
   "name": "python3"
  },
  "language_info": {
   "codemirror_mode": {
    "name": "ipython",
    "version": 3
   },
   "file_extension": ".py",
   "mimetype": "text/x-python",
   "name": "python",
   "nbconvert_exporter": "python",
   "pygments_lexer": "ipython3",
   "version": "3.8.10"
  }
 },
 "nbformat": 4,
 "nbformat_minor": 5
}
