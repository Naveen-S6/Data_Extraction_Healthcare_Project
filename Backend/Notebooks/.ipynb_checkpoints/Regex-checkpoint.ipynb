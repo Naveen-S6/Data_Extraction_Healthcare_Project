{
 "cells": [
  {
   "cell_type": "code",
   "execution_count": 8,
   "id": "0fa67122",
   "metadata": {},
   "outputs": [],
   "source": [
    "import re"
   ]
  },
  {
   "cell_type": "markdown",
   "id": "de0e08b7",
   "metadata": {},
   "source": [
    "### Extract all numbers"
   ]
  },
  {
   "cell_type": "code",
   "execution_count": 9,
   "id": "94790f2f",
   "metadata": {},
   "outputs": [],
   "source": [
    "text = \"Patien's phone number is 7871636233. Bill amount is 500$\""
   ]
  },
  {
   "cell_type": "code",
   "execution_count": 11,
   "id": "911ef5e9",
   "metadata": {},
   "outputs": [
    {
     "data": {
      "text/plain": [
       "['7871636233', '500']"
      ]
     },
     "execution_count": 11,
     "metadata": {},
     "output_type": "execute_result"
    }
   ],
   "source": [
    "pattern = '\\d+'\n",
    "match = re.findall(pattern, text)\n",
    "match"
   ]
  },
  {
   "cell_type": "markdown",
   "id": "e1843584",
   "metadata": {},
   "source": [
    "### Extract only phone numbers, Phone number is always 10 digits"
   ]
  },
  {
   "cell_type": "code",
   "execution_count": 12,
   "id": "8cb2dc99",
   "metadata": {},
   "outputs": [
    {
     "data": {
      "text/plain": [
       "['7871636233']"
      ]
     },
     "execution_count": 12,
     "metadata": {},
     "output_type": "execute_result"
    }
   ],
   "source": [
    "pattern2 = \"\\d{10}\"\n",
    "match2 = re.findall(pattern2, text)\n",
    "match2"
   ]
  },
  {
   "cell_type": "markdown",
   "id": "765325a9",
   "metadata": {},
   "source": [
    "### Extract phone numbers"
   ]
  },
  {
   "cell_type": "code",
   "execution_count": 13,
   "id": "b37df734",
   "metadata": {},
   "outputs": [],
   "source": [
    "text = \"Patien's phone number is 7871636233 and spous number is (342)-383-8578. Bill amount is 500$\""
   ]
  },
  {
   "cell_type": "code",
   "execution_count": 15,
   "id": "fca164ba",
   "metadata": {},
   "outputs": [
    {
     "data": {
      "text/plain": [
       "['7871636233', '(342)-383-8578']"
      ]
     },
     "execution_count": 15,
     "metadata": {},
     "output_type": "execute_result"
    }
   ],
   "source": [
    "pattern3 = \"\\(\\d{3}\\)-\\d{3}-\\d{4}|\\d{10}\"\n",
    "match3 = re.findall(pattern3, text)\n",
    "match3"
   ]
  },
  {
   "cell_type": "markdown",
   "id": "c764dd5a",
   "metadata": {},
   "source": [
    "### Extarct in terms of groups"
   ]
  },
  {
   "cell_type": "code",
   "execution_count": 19,
   "id": "4058aa42",
   "metadata": {},
   "outputs": [
    {
     "data": {
      "text/plain": [
       "<re.Match object; span=(25, 56), match='7871636233. Bill amount is 500$'>"
      ]
     },
     "execution_count": 19,
     "metadata": {},
     "output_type": "execute_result"
    }
   ],
   "source": [
    "text4 = \"Patien's phone number is 7871636233. Bill amount is 500$\"\n",
    "pattern4 =\"(\\d{10})\\D+(\\d+)\\$\"\n",
    "match4 = re.search(pattern4, text4)\n",
    "match4"
   ]
  },
  {
   "cell_type": "code",
   "execution_count": 20,
   "id": "b728a04d",
   "metadata": {},
   "outputs": [
    {
     "data": {
      "text/plain": [
       "('7871636233', '500')"
      ]
     },
     "execution_count": 20,
     "metadata": {},
     "output_type": "execute_result"
    }
   ],
   "source": [
    "match4.groups()"
   ]
  },
  {
   "cell_type": "code",
   "execution_count": 21,
   "id": "59d3598f",
   "metadata": {},
   "outputs": [],
   "source": [
    "phone_num, bill_amount = match4.groups()"
   ]
  },
  {
   "cell_type": "code",
   "execution_count": 22,
   "id": "502052c4",
   "metadata": {},
   "outputs": [
    {
     "data": {
      "text/plain": [
       "'7871636233'"
      ]
     },
     "execution_count": 22,
     "metadata": {},
     "output_type": "execute_result"
    }
   ],
   "source": [
    "phone_num"
   ]
  },
  {
   "cell_type": "code",
   "execution_count": 23,
   "id": "54ac5996",
   "metadata": {},
   "outputs": [
    {
     "data": {
      "text/plain": [
       "'500'"
      ]
     },
     "execution_count": 23,
     "metadata": {},
     "output_type": "execute_result"
    }
   ],
   "source": [
    "bill_amount"
   ]
  },
  {
   "cell_type": "code",
   "execution_count": null,
   "id": "3d26dcdc",
   "metadata": {},
   "outputs": [],
   "source": []
  }
 ],
 "metadata": {
  "kernelspec": {
   "display_name": "Python 3 (ipykernel)",
   "language": "python",
   "name": "python3"
  },
  "language_info": {
   "codemirror_mode": {
    "name": "ipython",
    "version": 3
   },
   "file_extension": ".py",
   "mimetype": "text/x-python",
   "name": "python",
   "nbconvert_exporter": "python",
   "pygments_lexer": "ipython3",
   "version": "3.8.10"
  }
 },
 "nbformat": 4,
 "nbformat_minor": 5
}
