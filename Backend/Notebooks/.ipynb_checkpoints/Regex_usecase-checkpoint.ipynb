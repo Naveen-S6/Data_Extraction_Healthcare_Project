{
 "cells": [
  {
   "cell_type": "code",
   "execution_count": 4,
   "id": "45001bb7",
   "metadata": {},
   "outputs": [],
   "source": [
    "import re"
   ]
  },
  {
   "cell_type": "code",
   "execution_count": 5,
   "id": "d370cdeb",
   "metadata": {},
   "outputs": [],
   "source": [
    "text = '''Dr John >mith, M.D\n",
    "\n",
    "2 Non-Important street,\n",
    "New York, Phone (900)-323- ~2222\n",
    "\n",
    "Name:  Virat Kohli Date: 2/05/2022\n",
    "\n",
    "Address: 2 cricket blvd, New Delhi\n",
    "\n",
    "| Omeprazole 40 mg\n",
    "\n",
    "Directions: Use two tablets daily for three months\n",
    "\n",
    "Refill: 3 times'''"
   ]
  },
  {
   "cell_type": "code",
   "execution_count": 6,
   "id": "b6c14677",
   "metadata": {},
   "outputs": [],
   "source": [
    "name_pattern = \"Name:(.*)Date\""
   ]
  },
  {
   "cell_type": "code",
   "execution_count": 7,
   "id": "472c9dd6",
   "metadata": {},
   "outputs": [
    {
     "data": {
      "text/plain": [
       "'Virat Kohli'"
      ]
     },
     "execution_count": 7,
     "metadata": {},
     "output_type": "execute_result"
    }
   ],
   "source": [
    "name_match = re.findall(name_pattern,text)\n",
    "name_match[0].strip()"
   ]
  },
  {
   "cell_type": "code",
   "execution_count": 8,
   "id": "4c0c84a9",
   "metadata": {},
   "outputs": [
    {
     "data": {
      "text/plain": [
       "'2 cricket blvd, New Delhi'"
      ]
     },
     "execution_count": 8,
     "metadata": {},
     "output_type": "execute_result"
    }
   ],
   "source": [
    "address_pattern = \"Address:(.*)\\n\"\n",
    "address_match = re.findall(address_pattern,text)\n",
    "address_match[0].strip()"
   ]
  },
  {
   "cell_type": "code",
   "execution_count": 11,
   "id": "bb2e70aa",
   "metadata": {},
   "outputs": [
    {
     "name": "stdout",
     "output_type": "stream",
     "text": [
      "| Omeprazole 40 mg\n"
     ]
    }
   ],
   "source": [
    "medicine_pattern = \"Address:[^\\n]*(.*)Directions\"\n",
    "medicine_match = re.findall(medicine_pattern,text, flags = re.DOTALL)\n",
    "print(medicine_match[0].strip())"
   ]
  },
  {
   "cell_type": "code",
   "execution_count": 12,
   "id": "c8c17f04",
   "metadata": {},
   "outputs": [
    {
     "data": {
      "text/plain": [
       "'Use two tablets daily for three months'"
      ]
     },
     "execution_count": 12,
     "metadata": {},
     "output_type": "execute_result"
    }
   ],
   "source": [
    "direction_pattern = \"Directions:(.*)Refill\"\n",
    "direction_match = re.findall(direction_pattern,text, flags = re.DOTALL)\n",
    "direction_match[0].strip()"
   ]
  },
  {
   "cell_type": "code",
   "execution_count": 17,
   "id": "ec2eec75",
   "metadata": {},
   "outputs": [
    {
     "data": {
      "text/plain": [
       "'3'"
      ]
     },
     "execution_count": 17,
     "metadata": {},
     "output_type": "execute_result"
    }
   ],
   "source": [
    "refill_pattern = \"Refill:.*(\\d+).times\"\n",
    "refill_match = re.findall(refill_pattern,text)\n",
    "refill_match[0].strip()"
   ]
  },
  {
   "cell_type": "markdown",
   "id": "ca972754",
   "metadata": {},
   "source": [
    "### Excerise "
   ]
  },
  {
   "cell_type": "markdown",
   "id": "63ca16ad",
   "metadata": {},
   "source": [
    "### Extract all Twitter handles from the following text (i.e. your answer should be teslarati, dummy_tesla, and dummy_2_tesla). Twitter handle is the text that appears after https://twitter.com/ and is a single word. Also, it contains only alphanumeric characters i.e. A-Z a-z, o to 9, and underscore _\n",
    "\n",
    "text = \"Follow our leader Elon musk on Twitter\n",
    "\n",
    "here: https://twitter.com/elonmusk, more information \n",
    "\n",
    "on Tesla's products can be found at https://www.tesla.com/. \n",
    "\n",
    "Also here are leading influencers for tesla-related news, \n",
    "\n",
    "https://twitter.com/teslarati\n",
    "\n",
    "https://twitter.com/dummy_tesla\n",
    "\n",
    "https://twitter.com/dummy_2_tesla\""
   ]
  },
  {
   "cell_type": "code",
   "execution_count": 19,
   "id": "421e5b6c",
   "metadata": {},
   "outputs": [],
   "source": [
    "handles_pattern = \"https://twitter.com/([a-zA-Z0-9\\_]*)\"\n",
    "text5 = '''Follow our leader Elon musk on Twitter\n",
    "\n",
    "here: https://twitter.com/elonmusk, more information \n",
    "\n",
    "on Tesla's products can be found at https://www.tesla.com/. \n",
    "\n",
    "Also here are leading influencers for tesla-related news, \n",
    "\n",
    "https://twitter.com/teslarati\n",
    "\n",
    "https://twitter.com/dummy_tesla\n",
    "\n",
    "https://twitter.com/dummy_2_tesla'''"
   ]
  },
  {
   "cell_type": "code",
   "execution_count": 20,
   "id": "21a6909b",
   "metadata": {},
   "outputs": [
    {
     "data": {
      "text/plain": [
       "['elonmusk', 'teslarati', 'dummy_tesla', 'dummy_2_tesla']"
      ]
     },
     "execution_count": 20,
     "metadata": {},
     "output_type": "execute_result"
    }
   ],
   "source": [
    "handles_matches = re.findall(handles_pattern,text5)\n",
    "handles_matches"
   ]
  },
  {
   "cell_type": "code",
   "execution_count": null,
   "id": "05c0f708",
   "metadata": {},
   "outputs": [],
   "source": []
  }
 ],
 "metadata": {
  "kernelspec": {
   "display_name": "Python 3 (ipykernel)",
   "language": "python",
   "name": "python3"
  },
  "language_info": {
   "codemirror_mode": {
    "name": "ipython",
    "version": 3
   },
   "file_extension": ".py",
   "mimetype": "text/x-python",
   "name": "python",
   "nbconvert_exporter": "python",
   "pygments_lexer": "ipython3",
   "version": "3.8.10"
  }
 },
 "nbformat": 4,
 "nbformat_minor": 5
}
