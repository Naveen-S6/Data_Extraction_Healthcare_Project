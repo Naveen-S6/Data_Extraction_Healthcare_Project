{
 "cells": [
  {
   "cell_type": "code",
   "execution_count": 1,
   "id": "ccef526d",
   "metadata": {},
   "outputs": [],
   "source": [
    "import cv2\n",
    "from PIL import Image\n",
    "import numpy as np"
   ]
  },
  {
   "cell_type": "code",
   "execution_count": 13,
   "id": "d29bce30",
   "metadata": {},
   "outputs": [],
   "source": [
    "from pdf2image import convert_from_path\n",
    "import re"
   ]
  },
  {
   "cell_type": "code",
   "execution_count": 95,
   "id": "dd2447fc",
   "metadata": {},
   "outputs": [],
   "source": [
    "pages = convert_from_path(r\"..\\Resources\\patient_details\\pd_1.pdf\",poppler_path=r\"D:\\Naveen\\OCR_Healthcare_Project\\poppler-22.04.0\\Library\\bin\")"
   ]
  },
  {
   "cell_type": "code",
   "execution_count": 57,
   "id": "cc8a105d",
   "metadata": {},
   "outputs": [],
   "source": [
    "pages[1].show()"
   ]
  },
  {
   "cell_type": "code",
   "execution_count": 58,
   "id": "8f169345",
   "metadata": {},
   "outputs": [],
   "source": [
    "import pytesseract\n",
    "pytesseract.pytesseract.tesseract_cmd = r\"C:\\Program Files\\Tesseract-OCR\\tesseract.exe\""
   ]
  },
  {
   "cell_type": "code",
   "execution_count": 96,
   "id": "32436556",
   "metadata": {},
   "outputs": [],
   "source": [
    "def preprocess_image(img):\n",
    "    gray = cv2.cvtColor(np.array(img), cv2.COLOR_BGR2GRAY)\n",
    "    resized = cv2.resize(gray, None, fx=1.5,fy=1.5, interpolation=cv2.INTER_LINEAR)\n",
    "    processed_image = cv2.adaptiveThreshold(resized, 255, cv2.ADAPTIVE_THRESH_GAUSSIAN_C,cv2.THRESH_BINARY,61,11)\n",
    "    \n",
    "    return processed_image"
   ]
  },
  {
   "cell_type": "code",
   "execution_count": 97,
   "id": "f8664128",
   "metadata": {},
   "outputs": [],
   "source": [
    "document_text = \"\"\n",
    "for page in pages:\n",
    "    process = preprocess_image(page)\n",
    "    document_text += pytesseract.image_to_string(process)"
   ]
  },
  {
   "cell_type": "code",
   "execution_count": 98,
   "id": "2df8cfec",
   "metadata": {},
   "outputs": [
    {
     "name": "stdout",
     "output_type": "stream",
     "text": [
      "17/12/2020\n",
      "\n",
      "Patient Medical Record\n",
      "\n",
      "Patient Information Birth Date\n",
      "\n",
      "Kathy Crawford May 6 1972\n",
      "\n",
      "(737) 988-0851 Weight’\n",
      "\n",
      "9264 Ash Dr 95\n",
      "\n",
      "New York City, 10005 '\n",
      "\n",
      "United States Height:\n",
      "190\n",
      "\n",
      "In Case of Emergency\n",
      "ee J\n",
      "Simeone Crawford 9266 Ash Dr\n",
      "New York City, New York, 10005\n",
      "Home phone United States\n",
      "(990) 375-4621\n",
      "Work phone\n",
      "Genera! Medical History\n",
      "nn ee\n",
      "Chicken Pox (Varicella): Measies:\n",
      "IMMUNE\n",
      "\n",
      "IMMUNE\n",
      "Have you had the Hepatitis B vaccination?\n",
      "\n",
      "No\n",
      "\n",
      "List any Medical Problems (asthma, seizures, headaches}:\n",
      "\n",
      "Migraine.\n",
      "\n",
      "‘Name of Insurance Company:\n",
      "\n",
      "Random Insuarance Company - 4789 Bollinger Rd\n",
      "Jersey City, New Jersey, 07030\n",
      "\n",
      "a Policy Number:\n",
      "71 1520731 3 Expiry Date:\n",
      "\n",
      ". 30 December 2020\n",
      "Do you have medical insurance?\n",
      "\n",
      "Yes:\n",
      "\n",
      "Medical Insurance Details\n",
      "\n",
      "List any allergies:\n",
      "\n",
      "Peanuts\n",
      "\n",
      "List any medication taken regularly:\n",
      "Triptans\n"
     ]
    }
   ],
   "source": [
    "print(document_text)"
   ]
  },
  {
   "cell_type": "code",
   "execution_count": 84,
   "id": "84aa9501",
   "metadata": {},
   "outputs": [],
   "source": [
    "name_pattern = \"Birth Date(.*?)\\(\\d{3}\\)\"\n",
    "name_match = re.findall(name_pattern, document_text, flags=re.DOTALL)\n",
    "name = name_match[0].strip()"
   ]
  },
  {
   "cell_type": "code",
   "execution_count": 85,
   "id": "a2cb03f3",
   "metadata": {},
   "outputs": [
    {
     "data": {
      "text/plain": [
       "[('May 6 1972', 'May')]"
      ]
     },
     "execution_count": 85,
     "metadata": {},
     "output_type": "execute_result"
    }
   ],
   "source": [
    "date_pattern = '((Jan|April|Feb|March|May|Jun|Jul|Aug|Sep|Oct|Nov|Dec)[ \\d+]*)'\n",
    "date_match = re.findall(date_pattern,name)\n",
    "date_match"
   ]
  },
  {
   "cell_type": "code",
   "execution_count": 86,
   "id": "9048faf9",
   "metadata": {},
   "outputs": [],
   "source": [
    "def remove_noise_from_name(name):\n",
    "    name = name.strip()\n",
    "    date_pattern = '((Jan|April|Feb|March|May|Jun|Jul|Aug|Sep|Oct|Nov|Dec)[ \\d+]*)'\n",
    "    date_match = re.findall(date_pattern,name)\n",
    "    if date_match:\n",
    "        name = name.replace(date_match[0][0],\"\").strip()\n",
    "    return name"
   ]
  },
  {
   "cell_type": "code",
   "execution_count": 87,
   "id": "dfcccab9",
   "metadata": {},
   "outputs": [
    {
     "data": {
      "text/plain": [
       "'Kathy Crawford'"
      ]
     },
     "execution_count": 87,
     "metadata": {},
     "output_type": "execute_result"
    }
   ],
   "source": [
    "remove_noise_from_name(name_match[0])"
   ]
  },
  {
   "cell_type": "code",
   "execution_count": 88,
   "id": "98a3e76e",
   "metadata": {},
   "outputs": [
    {
     "data": {
      "text/plain": [
       "['(737) 988-0851']"
      ]
     },
     "execution_count": 88,
     "metadata": {},
     "output_type": "execute_result"
    }
   ],
   "source": [
    "phone_num_pattern = \"Patient Information.*?(\\(\\d{3}\\) \\d{3}-\\d{4})\"\n",
    "phone_num_match = re.findall(phone_num_pattern, document_text, flags=re.DOTALL)\n",
    "phone_num_match"
   ]
  },
  {
   "cell_type": "code",
   "execution_count": 89,
   "id": "a3ea3e18",
   "metadata": {},
   "outputs": [
    {
     "data": {
      "text/plain": [
       "'No'"
      ]
     },
     "execution_count": 89,
     "metadata": {},
     "output_type": "execute_result"
    }
   ],
   "source": [
    "hepatitsis_pattern = \"Have you had the Hepatitis B vaccination\\?.*?(Yes|No)\"\n",
    "hepatitsis_status_match = re.findall(hepatitsis_pattern,document_text,flags=re.DOTALL)\n",
    "hepatitsis_status_match[0].strip()"
   ]
  },
  {
   "cell_type": "code",
   "execution_count": 99,
   "id": "c3160e7f",
   "metadata": {},
   "outputs": [
    {
     "data": {
      "text/plain": [
       "'Migraine.'"
      ]
     },
     "execution_count": 99,
     "metadata": {},
     "output_type": "execute_result"
    }
   ],
   "source": [
    "medi_prob_pattern = \"List any Medical Problems (\\(|\\{)asthma, seizures, headaches(\\)|\\}):(.*?)(‘Name|Name)\"\n",
    "medi_prob_match = re.findall(medi_prob_pattern, document_text, flags=re.DOTALL)\n",
    "medi_prob_match[0][2].strip()"
   ]
  },
  {
   "cell_type": "code",
   "execution_count": null,
   "id": "e9cc5cf5",
   "metadata": {},
   "outputs": [],
   "source": []
  },
  {
   "cell_type": "code",
   "execution_count": null,
   "id": "6774d803",
   "metadata": {},
   "outputs": [],
   "source": []
  }
 ],
 "metadata": {
  "kernelspec": {
   "display_name": "Python 3 (ipykernel)",
   "language": "python",
   "name": "python3"
  },
  "language_info": {
   "codemirror_mode": {
    "name": "ipython",
    "version": 3
   },
   "file_extension": ".py",
   "mimetype": "text/x-python",
   "name": "python",
   "nbconvert_exporter": "python",
   "pygments_lexer": "ipython3",
   "version": "3.8.10"
  }
 },
 "nbformat": 4,
 "nbformat_minor": 5
}
